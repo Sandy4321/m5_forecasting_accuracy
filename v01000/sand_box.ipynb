{
 "cells": [
  {
   "cell_type": "code",
   "execution_count": 1,
   "metadata": {},
   "outputs": [],
   "source": [
    "import os\n",
    "import gc\n",
    "import re\n",
    "import json\n",
    "import pickle\n",
    "import datetime\n",
    "from tqdm import tqdm\n",
    "\n",
    "import numpy as np\n",
    "import pandas as pd\n",
    "pd.options.display.max_columns = None\n",
    "\n",
    "from typing import Union\n",
    "\n",
    "import seaborn\n",
    "import matplotlib.pyplot as plt\n",
    "plt.style.use('seaborn-darkgrid')\n",
    "%config InlineBackend.figure_formats = {'png', 'retina'}\n",
    "\n",
    "from scipy.stats import linregress\n",
    "\n",
    "from sklearn import preprocessing\n",
    "from sklearn.model_selection import TimeSeriesSplit\n",
    "from sklearn.model_selection import train_test_split\n",
    "from sklearn.metrics import mean_squared_error\n",
    "from sklearn.metrics import mean_squared_log_error\n",
    "\n",
    "import lightgbm as lgb\n",
    "\n",
    "from v01005_Baseline import *"
   ]
  },
  {
   "cell_type": "code",
   "execution_count": 12,
   "metadata": {},
   "outputs": [],
   "source": [
    "VERSION = 'v01005'\n",
    "SEED = 42"
   ]
  },
  {
   "cell_type": "code",
   "execution_count": 3,
   "metadata": {},
   "outputs": [],
   "source": [
    "train = pd.read_pickle('/Users/rui/Documents/repositories/m5_forecasting_accuracy/v01000/features/drop_null_rows.pkl')"
   ]
  },
  {
   "cell_type": "code",
   "execution_count": 5,
   "metadata": {},
   "outputs": [],
   "source": [
    "def split_train_eval_submit(df, pred_interval=28):\n",
    "    latest_date = df['date'].max()\n",
    "    submit_date = latest_date - datetime.timedelta(days=pred_interval)\n",
    "    submit_mask = (df[\"date\"] > submit_date)\n",
    "\n",
    "    eval_date = latest_date - datetime.timedelta(days=pred_interval * 2)\n",
    "    eval_mask = ((df[\"date\"] > eval_date) & (df[\"date\"] <= submit_date))\n",
    "\n",
    "    train_mask = ((~eval_mask) & (~submit_mask))\n",
    "    return df[train_mask], df[eval_mask], df[submit_mask]"
   ]
  },
  {
   "cell_type": "code",
   "execution_count": 8,
   "metadata": {},
   "outputs": [
    {
     "name": "stdout",
     "output_type": "stream",
     "text": [
      "\n",
      "--- Train Model ---\n",
      "\n"
     ]
    }
   ],
   "source": [
    "print('\\n--- Train Model ---\\n')\n",
    "target = 'sales'\n",
    "cols_to_drop = ['id', 'wm_yr_wk', 'd', 'date'] + [target]\n",
    "features = train.columns.tolist()\n",
    "features = [f for f in features if f not in cols_to_drop]\n",
    "\n",
    "train_data, eval_data, submit_data = split_train_eval_submit(train)"
   ]
  },
  {
   "cell_type": "code",
   "execution_count": 42,
   "metadata": {},
   "outputs": [],
   "source": [
    "def create_feature(df):\n",
    "    print('Drop Null Rows.')\n",
    "    check_cols = ['lag', 'rolling']\n",
    "    cheked_regex = '|'.join(check_cols)\n",
    "    target_cols = df.columns[df.columns.str.contains(cheked_regex)]\n",
    "    is_contain_null_rows = df[target_cols].isnull().any(axis=1)\n",
    "    return df.loc[~(is_contain_null_rows), :]"
   ]
  }
 ],
 "metadata": {
  "kernelspec": {
   "display_name": "Python 3",
   "language": "python",
   "name": "python3"
  },
  "language_info": {
   "codemirror_mode": {
    "name": "ipython",
    "version": 3
   },
   "file_extension": ".py",
   "mimetype": "text/x-python",
   "name": "python",
   "nbconvert_exporter": "python",
   "pygments_lexer": "ipython3",
   "version": "3.8.2"
  }
 },
 "nbformat": 4,
 "nbformat_minor": 4
}
