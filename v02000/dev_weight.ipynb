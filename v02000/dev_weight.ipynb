{
 "cells": [
  {
   "cell_type": "code",
   "execution_count": 6,
   "metadata": {},
   "outputs": [],
   "source": [
    "import os\n",
    "import gc\n",
    "import re\n",
    "import json\n",
    "import pickle\n",
    "import datetime\n",
    "from tqdm import tqdm\n",
    "from typing import Union\n",
    "\n",
    "import numpy as np\n",
    "import pandas as pd\n",
    "pd.options.display.max_columns = 50\n",
    "\n",
    "from typing import Union\n",
    "\n",
    "import seaborn\n",
    "import matplotlib.pyplot as plt\n",
    "plt.style.use(\"seaborn-darkgrid\")\n",
    "\n",
    "from scipy.stats import linregress\n",
    "\n",
    "from sklearn import preprocessing\n",
    "from sklearn.model_selection import TimeSeriesSplit\n",
    "from sklearn.model_selection import train_test_split\n",
    "from sklearn.metrics import mean_squared_error\n",
    "\n",
    "import lightgbm as lgb\n",
    "\n",
    "# custom funcs\n",
    "from script import WRMSSEEvaluator\n",
    "from script import cache_result\n",
    "from script import reduce_mem_usage\n",
    "from script import load_pickle, dump_pickle"
   ]
  },
  {
   "cell_type": "code",
   "execution_count": 12,
   "metadata": {},
   "outputs": [],
   "source": [
    "from v02000.v02004_baseline import *"
   ]
  },
  {
   "cell_type": "code",
   "execution_count": 7,
   "metadata": {},
   "outputs": [],
   "source": [
    "train = pd.read_pickle('features/melted_and_merged_train.pkl')"
   ]
  },
  {
   "cell_type": "code",
   "execution_count": 8,
   "metadata": {},
   "outputs": [
    {
     "output_type": "execute_result",
     "data": {
      "text/plain": "                               id item_id dept_id cat_id store_id state_id  \\\n7   HOBBIES_1_008_CA_1_validation    1444       3      1        0        0   \n8   HOBBIES_1_009_CA_1_validation    1445       3      1        0        0   \n9   HOBBIES_1_010_CA_1_validation    1446       3      1        0        0   \n11  HOBBIES_1_012_CA_1_validation    1448       3      1        0        0   \n14  HOBBIES_1_015_CA_1_validation    1451       3      1        0        0   \n\n      d  sales       date  wm_yr_wk   weekday  wday month  year event_name_1  \\\n7   d_1     12 2011-01-29     11101  Saturday     1     1  2011           30   \n8   d_1      2 2011-01-29     11101  Saturday     1     1  2011           30   \n9   d_1      0 2011-01-29     11101  Saturday     1     1  2011           30   \n11  d_1      0 2011-01-29     11101  Saturday     1     1  2011           30   \n14  d_1      4 2011-01-29     11101  Saturday     1     1  2011           30   \n\n   event_type_1 event_name_2 event_type_2  snap_CA  snap_TX  snap_WI quarter  \\\n7             4            4            2        0        0        0       1   \n8             4            4            2        0        0        0       1   \n9             4            4            2        0        0        0       1   \n11            4            4            2        0        0        0       1   \n14            4            4            2        0        0        0       1   \n\n   week day dayofweek  is_year_end  is_year_start  is_quarter_end  \\\n7     4  29         5        False          False           False   \n8     4  29         5        False          False           False   \n9     4  29         5        False          False           False   \n11    4  29         5        False          False           False   \n14    4  29         5        False          False           False   \n\n    is_quarter_start  is_month_end  is_month_start  sell_price  \n7              False         False           False    0.459961  \n8              False         False           False    1.559570  \n9              False         False           False    3.169922  \n11             False         False           False    5.980469  \n14             False         False           False    0.700195  ",
      "text/html": "<div>\n<style scoped>\n    .dataframe tbody tr th:only-of-type {\n        vertical-align: middle;\n    }\n\n    .dataframe tbody tr th {\n        vertical-align: top;\n    }\n\n    .dataframe thead th {\n        text-align: right;\n    }\n</style>\n<table border=\"1\" class=\"dataframe\">\n  <thead>\n    <tr style=\"text-align: right;\">\n      <th></th>\n      <th>id</th>\n      <th>item_id</th>\n      <th>dept_id</th>\n      <th>cat_id</th>\n      <th>store_id</th>\n      <th>state_id</th>\n      <th>d</th>\n      <th>sales</th>\n      <th>date</th>\n      <th>wm_yr_wk</th>\n      <th>weekday</th>\n      <th>wday</th>\n      <th>month</th>\n      <th>year</th>\n      <th>event_name_1</th>\n      <th>event_type_1</th>\n      <th>event_name_2</th>\n      <th>event_type_2</th>\n      <th>snap_CA</th>\n      <th>snap_TX</th>\n      <th>snap_WI</th>\n      <th>quarter</th>\n      <th>week</th>\n      <th>day</th>\n      <th>dayofweek</th>\n      <th>is_year_end</th>\n      <th>is_year_start</th>\n      <th>is_quarter_end</th>\n      <th>is_quarter_start</th>\n      <th>is_month_end</th>\n      <th>is_month_start</th>\n      <th>sell_price</th>\n    </tr>\n  </thead>\n  <tbody>\n    <tr>\n      <th>7</th>\n      <td>HOBBIES_1_008_CA_1_validation</td>\n      <td>1444</td>\n      <td>3</td>\n      <td>1</td>\n      <td>0</td>\n      <td>0</td>\n      <td>d_1</td>\n      <td>12</td>\n      <td>2011-01-29</td>\n      <td>11101</td>\n      <td>Saturday</td>\n      <td>1</td>\n      <td>1</td>\n      <td>2011</td>\n      <td>30</td>\n      <td>4</td>\n      <td>4</td>\n      <td>2</td>\n      <td>0</td>\n      <td>0</td>\n      <td>0</td>\n      <td>1</td>\n      <td>4</td>\n      <td>29</td>\n      <td>5</td>\n      <td>False</td>\n      <td>False</td>\n      <td>False</td>\n      <td>False</td>\n      <td>False</td>\n      <td>False</td>\n      <td>0.459961</td>\n    </tr>\n    <tr>\n      <th>8</th>\n      <td>HOBBIES_1_009_CA_1_validation</td>\n      <td>1445</td>\n      <td>3</td>\n      <td>1</td>\n      <td>0</td>\n      <td>0</td>\n      <td>d_1</td>\n      <td>2</td>\n      <td>2011-01-29</td>\n      <td>11101</td>\n      <td>Saturday</td>\n      <td>1</td>\n      <td>1</td>\n      <td>2011</td>\n      <td>30</td>\n      <td>4</td>\n      <td>4</td>\n      <td>2</td>\n      <td>0</td>\n      <td>0</td>\n      <td>0</td>\n      <td>1</td>\n      <td>4</td>\n      <td>29</td>\n      <td>5</td>\n      <td>False</td>\n      <td>False</td>\n      <td>False</td>\n      <td>False</td>\n      <td>False</td>\n      <td>False</td>\n      <td>1.559570</td>\n    </tr>\n    <tr>\n      <th>9</th>\n      <td>HOBBIES_1_010_CA_1_validation</td>\n      <td>1446</td>\n      <td>3</td>\n      <td>1</td>\n      <td>0</td>\n      <td>0</td>\n      <td>d_1</td>\n      <td>0</td>\n      <td>2011-01-29</td>\n      <td>11101</td>\n      <td>Saturday</td>\n      <td>1</td>\n      <td>1</td>\n      <td>2011</td>\n      <td>30</td>\n      <td>4</td>\n      <td>4</td>\n      <td>2</td>\n      <td>0</td>\n      <td>0</td>\n      <td>0</td>\n      <td>1</td>\n      <td>4</td>\n      <td>29</td>\n      <td>5</td>\n      <td>False</td>\n      <td>False</td>\n      <td>False</td>\n      <td>False</td>\n      <td>False</td>\n      <td>False</td>\n      <td>3.169922</td>\n    </tr>\n    <tr>\n      <th>11</th>\n      <td>HOBBIES_1_012_CA_1_validation</td>\n      <td>1448</td>\n      <td>3</td>\n      <td>1</td>\n      <td>0</td>\n      <td>0</td>\n      <td>d_1</td>\n      <td>0</td>\n      <td>2011-01-29</td>\n      <td>11101</td>\n      <td>Saturday</td>\n      <td>1</td>\n      <td>1</td>\n      <td>2011</td>\n      <td>30</td>\n      <td>4</td>\n      <td>4</td>\n      <td>2</td>\n      <td>0</td>\n      <td>0</td>\n      <td>0</td>\n      <td>1</td>\n      <td>4</td>\n      <td>29</td>\n      <td>5</td>\n      <td>False</td>\n      <td>False</td>\n      <td>False</td>\n      <td>False</td>\n      <td>False</td>\n      <td>False</td>\n      <td>5.980469</td>\n    </tr>\n    <tr>\n      <th>14</th>\n      <td>HOBBIES_1_015_CA_1_validation</td>\n      <td>1451</td>\n      <td>3</td>\n      <td>1</td>\n      <td>0</td>\n      <td>0</td>\n      <td>d_1</td>\n      <td>4</td>\n      <td>2011-01-29</td>\n      <td>11101</td>\n      <td>Saturday</td>\n      <td>1</td>\n      <td>1</td>\n      <td>2011</td>\n      <td>30</td>\n      <td>4</td>\n      <td>4</td>\n      <td>2</td>\n      <td>0</td>\n      <td>0</td>\n      <td>0</td>\n      <td>1</td>\n      <td>4</td>\n      <td>29</td>\n      <td>5</td>\n      <td>False</td>\n      <td>False</td>\n      <td>False</td>\n      <td>False</td>\n      <td>False</td>\n      <td>False</td>\n      <td>0.700195</td>\n    </tr>\n  </tbody>\n</table>\n</div>"
     },
     "metadata": {},
     "execution_count": 8
    }
   ],
   "source": [
    "train.head()"
   ]
  },
  {
   "cell_type": "code",
   "execution_count": 9,
   "metadata": {},
   "outputs": [],
   "source": [
    "train = train[['id', 'd', 'sales', 'sell_price']]"
   ]
  },
  {
   "cell_type": "code",
   "execution_count": 10,
   "metadata": {},
   "outputs": [
    {
     "output_type": "execute_result",
     "data": {
      "text/plain": "60034805    1.323711\n60034806    1.034021\n60034807    2.283505\n60034808    2.123752\n60034809    6.519065\nName: sales, dtype: float64"
     },
     "metadata": {},
     "execution_count": 10
    }
   ],
   "source": [
    "# this is scaaaaaaaaaale !!!!!!!\n",
    "\n",
    "def est_scale(x):\n",
    "    series = x.shift(28).values\n",
    "    series = series[~np.isnan(series)][np.argmax(series != 0):]\n",
    "    if len(series) > 0:\n",
    "        scale = ((series[1:] - series[:-1]) ** 2).mean()\n",
    "    else:\n",
    "        scale = 1\n",
    "    return scale\n",
    "\n",
    "train.groupby('id')['sales'].transform(lambda x: est_scale(x)).tail()"
   ]
  },
  {
   "cell_type": "code",
   "execution_count": 20,
   "metadata": {},
   "outputs": [],
   "source": [
    "test_sclae = train.groupby('id')['sales'].transform(lambda x: est_scale(x))"
   ]
  },
  {
   "cell_type": "code",
   "execution_count": 40,
   "metadata": {},
   "outputs": [
    {
     "output_type": "execute_result",
     "data": {
      "text/plain": "         0\n27  1162.0\n28  1190.0\n29  1218.0\n30  1246.0\n31  1274.0\n32  1302.0\n33  1330.0\n34  1358.0\n35  1386.0\n36  1414.0\n37  1442.0\n38  1470.0\n39  1498.0\n40  1526.0\n41  1554.0\n42  1582.0\n43  1610.0\n44  1638.0\n45  1666.0\n46  1694.0\n47  1722.0\n48  1750.0\n49  1778.0\n50  1806.0\n51  1834.0\n52  1862.0\n53  1890.0\n54  1918.0\n55  1946.0\n56  1974.0\n57  2002.0\n58  2030.0\n59  2058.0\n60  2086.0\n61  2114.0\n62  2142.0\n63  2170.0\n64  2198.0\n65  2226.0\n66  2254.0\n67  2282.0\n68  2310.0\n69  2338.0\n70  2366.0\n71  2394.0",
      "text/html": "<div>\n<style scoped>\n    .dataframe tbody tr th:only-of-type {\n        vertical-align: middle;\n    }\n\n    .dataframe tbody tr th {\n        vertical-align: top;\n    }\n\n    .dataframe thead th {\n        text-align: right;\n    }\n</style>\n<table border=\"1\" class=\"dataframe\">\n  <thead>\n    <tr style=\"text-align: right;\">\n      <th></th>\n      <th>0</th>\n    </tr>\n  </thead>\n  <tbody>\n    <tr>\n      <th>27</th>\n      <td>1162.0</td>\n    </tr>\n    <tr>\n      <th>28</th>\n      <td>1190.0</td>\n    </tr>\n    <tr>\n      <th>29</th>\n      <td>1218.0</td>\n    </tr>\n    <tr>\n      <th>30</th>\n      <td>1246.0</td>\n    </tr>\n    <tr>\n      <th>31</th>\n      <td>1274.0</td>\n    </tr>\n    <tr>\n      <th>32</th>\n      <td>1302.0</td>\n    </tr>\n    <tr>\n      <th>33</th>\n      <td>1330.0</td>\n    </tr>\n    <tr>\n      <th>34</th>\n      <td>1358.0</td>\n    </tr>\n    <tr>\n      <th>35</th>\n      <td>1386.0</td>\n    </tr>\n    <tr>\n      <th>36</th>\n      <td>1414.0</td>\n    </tr>\n    <tr>\n      <th>37</th>\n      <td>1442.0</td>\n    </tr>\n    <tr>\n      <th>38</th>\n      <td>1470.0</td>\n    </tr>\n    <tr>\n      <th>39</th>\n      <td>1498.0</td>\n    </tr>\n    <tr>\n      <th>40</th>\n      <td>1526.0</td>\n    </tr>\n    <tr>\n      <th>41</th>\n      <td>1554.0</td>\n    </tr>\n    <tr>\n      <th>42</th>\n      <td>1582.0</td>\n    </tr>\n    <tr>\n      <th>43</th>\n      <td>1610.0</td>\n    </tr>\n    <tr>\n      <th>44</th>\n      <td>1638.0</td>\n    </tr>\n    <tr>\n      <th>45</th>\n      <td>1666.0</td>\n    </tr>\n    <tr>\n      <th>46</th>\n      <td>1694.0</td>\n    </tr>\n    <tr>\n      <th>47</th>\n      <td>1722.0</td>\n    </tr>\n    <tr>\n      <th>48</th>\n      <td>1750.0</td>\n    </tr>\n    <tr>\n      <th>49</th>\n      <td>1778.0</td>\n    </tr>\n    <tr>\n      <th>50</th>\n      <td>1806.0</td>\n    </tr>\n    <tr>\n      <th>51</th>\n      <td>1834.0</td>\n    </tr>\n    <tr>\n      <th>52</th>\n      <td>1862.0</td>\n    </tr>\n    <tr>\n      <th>53</th>\n      <td>1890.0</td>\n    </tr>\n    <tr>\n      <th>54</th>\n      <td>1918.0</td>\n    </tr>\n    <tr>\n      <th>55</th>\n      <td>1946.0</td>\n    </tr>\n    <tr>\n      <th>56</th>\n      <td>1974.0</td>\n    </tr>\n    <tr>\n      <th>57</th>\n      <td>2002.0</td>\n    </tr>\n    <tr>\n      <th>58</th>\n      <td>2030.0</td>\n    </tr>\n    <tr>\n      <th>59</th>\n      <td>2058.0</td>\n    </tr>\n    <tr>\n      <th>60</th>\n      <td>2086.0</td>\n    </tr>\n    <tr>\n      <th>61</th>\n      <td>2114.0</td>\n    </tr>\n    <tr>\n      <th>62</th>\n      <td>2142.0</td>\n    </tr>\n    <tr>\n      <th>63</th>\n      <td>2170.0</td>\n    </tr>\n    <tr>\n      <th>64</th>\n      <td>2198.0</td>\n    </tr>\n    <tr>\n      <th>65</th>\n      <td>2226.0</td>\n    </tr>\n    <tr>\n      <th>66</th>\n      <td>2254.0</td>\n    </tr>\n    <tr>\n      <th>67</th>\n      <td>2282.0</td>\n    </tr>\n    <tr>\n      <th>68</th>\n      <td>2310.0</td>\n    </tr>\n    <tr>\n      <th>69</th>\n      <td>2338.0</td>\n    </tr>\n    <tr>\n      <th>70</th>\n      <td>2366.0</td>\n    </tr>\n    <tr>\n      <th>71</th>\n      <td>2394.0</td>\n    </tr>\n  </tbody>\n</table>\n</div>"
     },
     "metadata": {},
     "execution_count": 40
    }
   ],
   "source": [
    "df = pd.DataFrame(np.arange(100))\n",
    "\n",
    "df.shift(-28).rolling(28).sum().dropna(axis=0)"
   ]
  },
  {
   "cell_type": "markdown",
   "metadata": {},
   "source": [
    "weight はできなかったので、明日のあさおきたらやろう。"
   ]
  },
  {
   "cell_type": "code",
   "execution_count": 69,
   "metadata": {},
   "outputs": [],
   "source": [
    "# あとは全体からの売上占有率を計算したい。\n",
    "train['total_sales_price'] = train[['sales', 'sell_price']].prod(axis=1)\n",
    "train['ahead_total_sales_price'] = train.groupby('id')['total_sales_price'].transform(lambda x: x.rolling(28).sum())\n",
    "train['overall_d_total_sales_price'] = train.groupby('d')['total_sales_price'].transform('sum')"
   ]
  },
  {
   "cell_type": "code",
   "execution_count": 70,
   "metadata": {},
   "outputs": [],
   "source": [
    "# train['weight'] = train['ahead_total_sales_price'] / train['overall_ahead_total_sales_price']"
   ]
  },
  {
   "cell_type": "code",
   "execution_count": 71,
   "metadata": {},
   "outputs": [
    {
     "data": {
      "text/html": [
       "<div>\n",
       "<style scoped>\n",
       "    .dataframe tbody tr th:only-of-type {\n",
       "        vertical-align: middle;\n",
       "    }\n",
       "\n",
       "    .dataframe tbody tr th {\n",
       "        vertical-align: top;\n",
       "    }\n",
       "\n",
       "    .dataframe thead th {\n",
       "        text-align: right;\n",
       "    }\n",
       "</style>\n",
       "<table border=\"1\" class=\"dataframe\">\n",
       "  <thead>\n",
       "    <tr style=\"text-align: right;\">\n",
       "      <th></th>\n",
       "      <th>id</th>\n",
       "      <th>d</th>\n",
       "      <th>sales</th>\n",
       "      <th>sell_price</th>\n",
       "      <th>total_sales_price</th>\n",
       "      <th>ahead_total_sales_price</th>\n",
       "      <th>overall_ahead_total_sales_price</th>\n",
       "      <th>weight</th>\n",
       "      <th>overall_d_total_sales_price</th>\n",
       "    </tr>\n",
       "  </thead>\n",
       "  <tbody>\n",
       "    <tr>\n",
       "      <th>60034805</th>\n",
       "      <td>FOODS_3_823_WI_3_validation</td>\n",
       "      <td>d_1969</td>\n",
       "      <td>0</td>\n",
       "      <td>2.980469</td>\n",
       "      <td>0.0</td>\n",
       "      <td>0.0</td>\n",
       "      <td>0.0</td>\n",
       "      <td>NaN</td>\n",
       "      <td>0.0</td>\n",
       "    </tr>\n",
       "    <tr>\n",
       "      <th>60034806</th>\n",
       "      <td>FOODS_3_824_WI_3_validation</td>\n",
       "      <td>d_1969</td>\n",
       "      <td>0</td>\n",
       "      <td>2.480469</td>\n",
       "      <td>0.0</td>\n",
       "      <td>0.0</td>\n",
       "      <td>0.0</td>\n",
       "      <td>NaN</td>\n",
       "      <td>0.0</td>\n",
       "    </tr>\n",
       "    <tr>\n",
       "      <th>60034807</th>\n",
       "      <td>FOODS_3_825_WI_3_validation</td>\n",
       "      <td>d_1969</td>\n",
       "      <td>0</td>\n",
       "      <td>3.980469</td>\n",
       "      <td>0.0</td>\n",
       "      <td>0.0</td>\n",
       "      <td>0.0</td>\n",
       "      <td>NaN</td>\n",
       "      <td>0.0</td>\n",
       "    </tr>\n",
       "    <tr>\n",
       "      <th>60034808</th>\n",
       "      <td>FOODS_3_826_WI_3_validation</td>\n",
       "      <td>d_1969</td>\n",
       "      <td>0</td>\n",
       "      <td>1.280273</td>\n",
       "      <td>0.0</td>\n",
       "      <td>0.0</td>\n",
       "      <td>0.0</td>\n",
       "      <td>NaN</td>\n",
       "      <td>0.0</td>\n",
       "    </tr>\n",
       "    <tr>\n",
       "      <th>60034809</th>\n",
       "      <td>FOODS_3_827_WI_3_validation</td>\n",
       "      <td>d_1969</td>\n",
       "      <td>0</td>\n",
       "      <td>1.000000</td>\n",
       "      <td>0.0</td>\n",
       "      <td>0.0</td>\n",
       "      <td>0.0</td>\n",
       "      <td>NaN</td>\n",
       "      <td>0.0</td>\n",
       "    </tr>\n",
       "  </tbody>\n",
       "</table>\n",
       "</div>"
      ],
      "text/plain": [
       "                                   id       d  sales  sell_price  \\\n",
       "60034805  FOODS_3_823_WI_3_validation  d_1969      0    2.980469   \n",
       "60034806  FOODS_3_824_WI_3_validation  d_1969      0    2.480469   \n",
       "60034807  FOODS_3_825_WI_3_validation  d_1969      0    3.980469   \n",
       "60034808  FOODS_3_826_WI_3_validation  d_1969      0    1.280273   \n",
       "60034809  FOODS_3_827_WI_3_validation  d_1969      0    1.000000   \n",
       "\n",
       "          total_sales_price  ahead_total_sales_price  \\\n",
       "60034805                0.0                      0.0   \n",
       "60034806                0.0                      0.0   \n",
       "60034807                0.0                      0.0   \n",
       "60034808                0.0                      0.0   \n",
       "60034809                0.0                      0.0   \n",
       "\n",
       "          overall_ahead_total_sales_price  weight  overall_d_total_sales_price  \n",
       "60034805                              0.0     NaN                          0.0  \n",
       "60034806                              0.0     NaN                          0.0  \n",
       "60034807                              0.0     NaN                          0.0  \n",
       "60034808                              0.0     NaN                          0.0  \n",
       "60034809                              0.0     NaN                          0.0  "
      ]
     },
     "execution_count": 71,
     "metadata": {},
     "output_type": "execute_result"
    }
   ],
   "source": [
    "train[~train['ahead_total_sales_price'].isnull()].tail()"
   ]
  },
  {
   "cell_type": "code",
   "execution_count": null,
   "metadata": {},
   "outputs": [],
   "source": []
  }
 ],
 "metadata": {
  "kernelspec": {
   "display_name": "Python 3.8.2 64-bit ('.venv': venv)",
   "language": "python",
   "name": "python38264bitvenvvenvcf0416b8499e4ae69ca930cc690f02a4"
  },
  "language_info": {
   "codemirror_mode": {
    "name": "ipython",
    "version": 3
   },
   "file_extension": ".py",
   "mimetype": "text/x-python",
   "name": "python",
   "nbconvert_exporter": "python",
   "pygments_lexer": "ipython3",
   "version": "3.8.2-final"
  }
 },
 "nbformat": 4,
 "nbformat_minor": 4
}